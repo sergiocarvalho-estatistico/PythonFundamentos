{
 "cells": [
  {
   "cell_type": "markdown",
   "metadata": {},
   "source": [
    "# Python para Análise de Dados\n",
    "\n",
    "O Python evoluiu para ser uma ótima plataforma para análise de dados. Existe todo um 'ecossistema' ou pilha de pacotes que juntos fornecem um kit de ferramentas abrangente para a maioria dos tipos de análise de dados."
   ]
  },
  {
   "cell_type": "markdown",
   "metadata": {},
   "source": [
    "<img src=\"pydata_stack.png\" width=\"1500\" height=\"250\" align=\"center\"/> "
   ]
  },
  {
   "cell_type": "markdown",
   "metadata": {},
   "source": [
    "Observe que na base da pilha estão Python e IPython."
   ]
  },
  {
   "cell_type": "markdown",
   "metadata": {},
   "source": [
    "## Os blocos de construção básicos\n",
    "\n",
    "O verdadeiro poder do Python para análise de dados surge quando subimos uma fila. \n",
    "\n",
    "* NumPy \n",
    "    * Fornece matrizes numéricas N-dimensionais\n",
    "    * Álgebra linear \n",
    "    * Transformadas de Fourier. \n",
    " \n",
    "\n",
    "* SciPy \n",
    "    * Baseia-se no NumPy\n",
    "    * Fornece métodos numéricos mais avançados, integração, solucionadores de equações diferenciais ordinárias (ODE)\n",
    "    * Se você se deparar com as chamadas  ‘Numerical Recipes’ reservadas, há uma boa chance de encontrar esses algoritmos implementados em SciPy.\n",
    "\n",
    "    \n",
    "* Matplotlib \n",
    "    * A principal biblioteca de plotar gráficos do Python. \n",
    "    * A documentação no site Matplotlib é boa, especialmente a galeria. \n",
    "\n",
    "    \n",
    "* JuPyter \n",
    "    * Em vez de usar a linha de comando interativa do IPython\n",
    "    * Use o Python no estilo 'notebook' de dentro do seu navegador da web.\n",
    "    * Que mantém seus comandos e suas saídas juntos em um único documento que você pode reabrir mais tarde. \n",
    "    * Particularmente vale a pena investigar se você faz muitas estatísticas."
   ]
  },
  {
   "cell_type": "markdown",
   "metadata": {},
   "source": [
    "# Analisando e Manipulando Seus Dados\n",
    "\n",
    "O uso isolado ou conjutamente dos seguintes pacotes são essenciais para o trabalho diário de um cientista de dados.\n",
    "\n",
    "* Pandas \n",
    "    * A ferramenta número um mais importante para a ciência de dados. \n",
    "    * Estruturas de dados de alto desempenho e ferramentas de análise de dados. \n",
    "    * Elimina toda a complexidade do carregamento de dados tabulares no Python para análise. \n",
    "    * Especialmente arquivos CSV, arquivos Excel, bancos de dados SQL. \n",
    "    * Documentar bem seus dados com títulos e índices de colunas. \n",
    "    * Faz muitas estatísticas básicas e oferece recursos de plotagem para examinar rapidamente seus dados. \n",
    "    * Particularmente bom se você tiver que trabalhar com dados de séries temporais. \n",
    "\n",
    "\n",
    "* xarray \n",
    "    * Inspirado no Pandas\n",
    "    * Mas projetado especialmente para trabalhar com dados N-dimensionais, como os fornecidos pelos modelos climáticos. \n",
    "    * Essencialmente, uma representação na memória de um arquivo NetCDF, se você os encontrar. \n",
    "    * Oferece estatísticas e plotagens integradas para explorar rapidamente seus dados. \n",
    "\n",
    "\n",
    "* scikit-learn \n",
    "    * Ferramentas de aprendizado de máquina para Python. \n",
    "    * Cada vez mais popular, contém todos os principais algoritmos usados neste campo, como o cluster K-means\n",
    "\n",
    "\n",
    "* scikit-image \n",
    "    * Várias funcionalidades para análise de imagens, inclusive para imagens de satélite."
   ]
  },
  {
   "cell_type": "markdown",
   "metadata": {},
   "source": [
    "## Estatísticas avançadas\n",
    "\n",
    "* Statsmodels  \n",
    "    * Fornece implementações de todos os principais algoritmos estatísticos. \n",
    "    * Trabalha preferencialmente com os DataFrames do Pandas. \n",
    "    * Tem a opção de usar sintaxe do tipo R, da qual você provavelmente gostará se estiver familiarizado com R.\n",
    "\n",
    "\n",
    "* seaborn\n",
    "    * Um conjunto de ferramentas de plotagem estatística. \n",
    "    * As parcelas parecem muito elegantes. \n",
    "    * Vale a pena olhar se você faz muito trabalho estatístico. \n",
    "    * Toma os Pandas DataFrames como padrão."
   ]
  },
  {
   "cell_type": "markdown",
   "metadata": {},
   "source": [
    "## Por que esses pacotes são separados em 'níveis'?\n",
    "\n",
    "\n",
    "* Em geral, os níveis mais altos da pilha de pacotes dependem dos pacotes mais baixos para fazê-los funcionar. \n",
    "* Por exemplo, os usos marítimos capturam os DataFrames do Pandas e usam o Matplotlib 'under the hood' para sua plotagem.\n",
    "* Isso também significa que você geralmente deve começar com as ferramentas ou pacotes no topo desta pilha. \n",
    "* Se você não conseguir encontrar a função desejada, mova um nível abaixo da pilha e procure por ela lá. \n",
    "* Se você chegar ao fundo da pilha, ou seja, Python/IPython, provavelmente precisará escrever sua própria função. \n",
    "* Mas é melhor ver se alguém já fez isso por você primeiro, então faça um pouco de pesquisa no Google antes comprometendo-se a isso."
   ]
  },
  {
   "cell_type": "markdown",
   "metadata": {},
   "source": [
    "## Última nota\n",
    "\n",
    "Essa seleção de pacotes não é exaustiva. Está disponível uma variedade de outros pacotes especializados, dependendo do seu trabalho - por exemplo:\n",
    "\n",
    "* Spectral Python - para detecção remota hiperespectral\n",
    "* AstroPy - para astronomia\n",
    "* PyTables - para trabalhar diretamente com arquivos HDF (observe que o Pandas faz isso muito bem na maior parte)\n",
    "* Bokeh - para plotagem interativa\n",
    "* Cartopia - para plotagem geográfica\n",
    "* Mapa base do Matplotlib - para plotagem geográfica\n",
    "* GDAL e OGR - transformações geográficas e deformação. Fantástico e o padrão ouro, se você conseguir fazê-lo funcionar, espere um pouco de luta, mas vale a pena.\n",
    "* PySAL - Biblioteca de Análise Espacial. Particularmente bom em econometria espacial, modelagem de localização"
   ]
  }
 ],
 "metadata": {
  "kernelspec": {
   "display_name": "Python 3",
   "language": "python",
   "name": "python3"
  },
  "language_info": {
   "codemirror_mode": {
    "name": "ipython",
    "version": 3
   },
   "file_extension": ".py",
   "mimetype": "text/x-python",
   "name": "python",
   "nbconvert_exporter": "python",
   "pygments_lexer": "ipython3",
   "version": "3.7.3"
  }
 },
 "nbformat": 4,
 "nbformat_minor": 4
}
