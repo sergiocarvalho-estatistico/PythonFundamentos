{
 "cells": [
  {
   "cell_type": "markdown",
   "metadata": {},
   "source": [
    "# Scikit-learn\n",
    "\n",
    "* [Scikit-Learn.org](https://scikit-learn.org/stable/)\n",
    "\n",
    "* Wikipedia \n",
    "    * A scikit-learn (originalmente scikits.learn) é uma biblioteca de aprendizado de máquina de código aberto para a linguagem de programação Python.[3] Ela inclui vários algoritmos de classificação, regressão e agrupamento incluindo máquinas de vetores de suporte, florestas aleatórias, gradient boosting, k-means e DBSCAN, e é projetada para interagir com as bibliotecas Python numéricas e científicas NumPy e SciPy."
   ]
  },
  {
   "cell_type": "markdown",
   "metadata": {},
   "source": [
    "<img src=\"ml_map.png\" style=\"width: 1800px; height: 450px\"/>"
   ]
  },
  {
   "cell_type": "markdown",
   "metadata": {},
   "source": [
    "## Preço da Pizza"
   ]
  },
  {
   "cell_type": "markdown",
   "metadata": {},
   "source": [
    "Temos o interesse em entender o comportamento do preço da pizza em função de seu diâmetro. Para isso posso utilizar o método de regressão linear simples. "
   ]
  },
  {
   "cell_type": "markdown",
   "metadata": {},
   "source": [
    "Importando Matplotlib e Numpy"
   ]
  },
  {
   "cell_type": "code",
   "execution_count": 2,
   "metadata": {},
   "outputs": [],
   "source": [
    "import matplotlib.pyplot as plt\n",
    "import numpy as np\n",
    "%matplotlib inline"
   ]
  },
  {
   "cell_type": "markdown",
   "metadata": {},
   "source": [
    "Tabela com as informações do preço e do valor da pizza."
   ]
  },
  {
   "cell_type": "markdown",
   "metadata": {},
   "source": [
    "<table class=\"ArticleTableNoBorder\">\n",
    "\t<tbody>\n",
    "\t\t<tr>\n",
    "\t\t\t<td><strong>Instância</strong></td>\n",
    "\t\t\t<td><strong>Diâmetro(cm)</strong></td>\n",
    "            <td><strong>Preço(R$)</strong></td>\n",
    "\t\t</tr>\n",
    "\t\t<tr>\n",
    "\t\t\t<td><code>1</code></td>\n",
    "\t\t\t<td>7</td>\n",
    "            <td>8</td>\n",
    "\t\t</tr>\n",
    "\t\t<tr>\n",
    "\t\t\t<td><code>2</code></td>\n",
    "\t\t\t<td>10</td>\n",
    "            <td>11</td>\n",
    "\t\t</tr>\n",
    "\t\t<tr>\n",
    "\t\t\t<td><code>3</code></td>\n",
    "\t\t\t<td>15</td>\n",
    "            <td>16</td>\n",
    "\t\t</tr>\n",
    "\t\t<tr>\n",
    "\t\t\t<td><code>4</code></td>\n",
    "\t\t\t<td>30</td>\n",
    "            <td>38.5</td>\n",
    "\t\t</tr>\n",
    "\t\t<tr>\n",
    "\t\t\t<td><code>5</code></td>\n",
    "\t\t\t<td>45</td>\n",
    "            <td>52</td>\n",
    "\t\t</tr>\n",
    "\t</tbody>\n",
    "</table>"
   ]
  },
  {
   "cell_type": "markdown",
   "metadata": {},
   "source": [
    "Diâmetros (cm)"
   ]
  },
  {
   "cell_type": "code",
   "execution_count": 3,
   "metadata": {},
   "outputs": [],
   "source": [
    "Diametros = [[7], [10], [15], [30], [45]]"
   ]
  },
  {
   "cell_type": "markdown",
   "metadata": {},
   "source": [
    "Preços (R$)"
   ]
  },
  {
   "cell_type": "code",
   "execution_count": 4,
   "metadata": {},
   "outputs": [],
   "source": [
    "Precos = [[8], [11], [16], [38.5], [52]]"
   ]
  },
  {
   "cell_type": "markdown",
   "metadata": {},
   "source": [
    "Visualização dos dados"
   ]
  },
  {
   "cell_type": "code",
   "execution_count": 5,
   "metadata": {},
   "outputs": [
    {
     "data": {
      "image/png": "[encoded data removed]",
      "text/plain": [
       "<Figure size 1512x360 with 1 Axes>"
      ]
     },
     "metadata": {
      "needs_background": "light"
     },
     "output_type": "display_data"
    }
   ],
   "source": [
    "plt.figure(figsize = (21,5))\n",
    "plt.xlabel('Diâmetro(cm)')\n",
    "plt.ylabel('Preço(R$)')\n",
    "plt.title('Diâmetro x Preço')\n",
    "plt.plot(Diametros, Precos, 'k.')\n",
    "plt.axis([0, 60, 0, 60])\n",
    "plt.grid(True)\n",
    "plt.show()"
   ]
  },
  {
   "cell_type": "markdown",
   "metadata": {},
   "source": [
    "Note que a medida em que o o valor do diâmetro da pizza aumenta, aumenta também o valor do preço da pizza. Há uma possível relação de linearidade entre os dados."
   ]
  },
  {
   "cell_type": "markdown",
   "metadata": {},
   "source": [
    "## Ajuste do modelo aos dados."
   ]
  },
  {
   "cell_type": "markdown",
   "metadata": {},
   "source": [
    "* No Scikit-Learn a classe sklearn.linear_model.LinearRegression é um estimador. \n",
    "* Um estimador estima um valor baseado em dados observados. \n",
    "* No scikit-learn, todos os estimadores implementam os métodos fit() e predict(). \n",
    "    * O método fit() é usado para aprender os parâmetros de um modelo \n",
    "    * O método predict() é usado para prever o valor de uma variável dependente em relação a uma variável explanatória usando os parâmetros aprendidos."
   ]
  },
  {
   "cell_type": "markdown",
   "metadata": {},
   "source": [
    "Importando o módulo de Regressão Linear do scikit-learn"
   ]
  },
  {
   "cell_type": "code",
   "execution_count": 6,
   "metadata": {},
   "outputs": [],
   "source": [
    "from sklearn.linear_model import LinearRegression"
   ]
  },
  {
   "cell_type": "markdown",
   "metadata": {},
   "source": [
    "Preparando os dados de treino\n",
    "\n",
    "## Criando o modelo"
   ]
  },
  {
   "cell_type": "code",
   "execution_count": 7,
   "metadata": {},
   "outputs": [],
   "source": [
    "modelo = LinearRegression()"
   ]
  },
  {
   "cell_type": "code",
   "execution_count": 8,
   "metadata": {},
   "outputs": [
    {
     "data": {
      "text/plain": [
       "sklearn.linear_model.base.LinearRegression"
      ]
     },
     "execution_count": 8,
     "metadata": {},
     "output_type": "execute_result"
    }
   ],
   "source": [
    "type(modelo)"
   ]
  },
  {
   "cell_type": "markdown",
   "metadata": {},
   "source": [
    "Treinando o modelo"
   ]
  },
  {
   "cell_type": "code",
   "execution_count": 9,
   "metadata": {},
   "outputs": [
    {
     "data": {
      "text/plain": [
       "LinearRegression(copy_X=True, fit_intercept=True, n_jobs=None,\n",
       "         normalize=False)"
      ]
     },
     "execution_count": 9,
     "metadata": {},
     "output_type": "execute_result"
    }
   ],
   "source": [
    "modelo.fit(Diametros, Precos)"
   ]
  },
  {
   "cell_type": "markdown",
   "metadata": {},
   "source": [
    "Prevendo o preço de uma pizza de 20 cm de diâmetro"
   ]
  },
  {
   "cell_type": "code",
   "execution_count": 10,
   "metadata": {},
   "outputs": [],
   "source": [
    "newdata = [[20]]"
   ]
  },
  {
   "cell_type": "code",
   "execution_count": 11,
   "metadata": {},
   "outputs": [
    {
     "name": "stdout",
     "output_type": "stream",
     "text": [
      "Uma pizza de 20 cm de diâmetro deve custar: R$ 23.41\n"
     ]
    }
   ],
   "source": [
    "print(\"Uma pizza de 20 cm de diâmetro deve custar: R$ %.2f\" % modelo.predict(newdata))"
   ]
  },
  {
   "cell_type": "markdown",
   "metadata": {},
   "source": [
    "# Linear Regression \n",
    "\n",
    "* Wikipedia\n",
    "    * Em estatística, regressão é uma técnica que permite explorar e inferir a relação de uma variável dependente (variável de resposta) com variáveis independentes específicas (variáveis explicatórias). A análise da regressão pode ser usada como um método descritivo da análise de dados (por exemplo, o ajustamento de curvas) sem serem necessárias quaisquer suposições acerca dos processos que permitiram gerar os dados. Regressão designa também uma equação matemática que descreva a relação entre duas ou mais variáveis.\n",
    "    \n",
    "* [Linear Regression](https://en.wikipedia.org/wiki/Linear_regression)    "
   ]
  },
  {
   "cell_type": "markdown",
   "metadata": {},
   "source": [
    "### O método fit() \n",
    "\n",
    "* O método fit() do módulo LinearRegression aprende os parâmetros do seguinte modelo de regressão linear:\n",
    "\n",
    "<br>\n",
    "\n",
    "$$ \\LARGE {\\displaystyle \\mathbf {y} =X{\\boldsymbol {\\beta }}+{\\boldsymbol {\\varepsilon }},\\,} $$\n",
    "\n",
    "</br>\n",
    "\n",
    "$$ \\mathbf{y} ={\\begin{pmatrix}y_{1}\\\\y_{2}\\\\\\vdots \\\\y_{n}\\end{pmatrix}},\\quad \\quad \\quad {\\displaystyle X={\\begin{pmatrix}\\mathbf {x} _{1}^{\\mathsf {T}}\\\\\\mathbf {x} _{2}^{\\mathsf {T}}\\\\\\vdots \\\\\\mathbf {x} _{n}^{\\mathsf {T}}\\end{pmatrix}}={\\begin{pmatrix}1&x_{11}&\\cdots &x_{1p}\\\\1&x_{21}&\\cdots &x_{2p}\\\\\\vdots &\\vdots &\\ddots &\\vdots \\\\1&x_{n1}&\\cdots &x_{np}\\end{pmatrix}},}  \\quad \\quad \\quad {\\displaystyle {\\boldsymbol {\\beta }}={\\begin{pmatrix}\\beta _{0}\\\\\\beta _{1}\\\\\\beta _{2}\\\\\\vdots \\\\\\beta _{p}\\end{pmatrix}},\\quad \\quad \\quad {\\boldsymbol {\\varepsilon }}={\\begin{pmatrix}\\varepsilon _{1}\\\\\\varepsilon _{2}\\\\\\vdots \\\\\\varepsilon _{n}\\end{pmatrix}}.}$$"
   ]
  },
  {
   "cell_type": "markdown",
   "metadata": {},
   "source": [
    "\n",
    "\n",
    "* Em que:\n",
    "\n",
    "    * $\\mathbf{y}$ é um vetor de valores observados ${\\displaystyle y_ {i} (i = 1, \\ldots, n)}$ da variável variável de resposta ou variável dependente. A decisão sobre qual variável em um conjunto de dados é modelada como variável dependente e quais são modeladas como variáveis independentes pode basear-se na presunção de que o valor de uma das variáveis é causado por, ou diretamente influenciado por outras variáveis. Como alternativa, pode haver uma razão operacional para modelar uma das variáveis em termos das outras, caso em que não há presunção de causalidade.  \n",
    "    \n",
    "    * X pode ser visto como uma matriz de vetores de linha ${\\displaystyle \\mathbf{x}_{i}}$ ou de vetores de coluna n-dimensionais ${\\displaystyle X_{j}}$, Que são conhecidos como regressores, covariáveis ou variáveis independentes.\n",
    "  \n",
    "    * ${\\boldsymbol{\\beta}}$ é um ${\\displaystyle(p + 1)}$ de parâmetro tridimensional, em que ${\\displaystyle \\beta _ {0}}$ é o termo de interceptação (se houver um incluído no modelo - caso contrário ${\\displaystyle {\\boldsymbol {\\beta}}}$ é (p-dimensional). Seus elementos são conhecidos como efeitos ou coeficientes de regressão (embora o último termo às vezes seja reservado para os efeitos estimados). A estimativa estatística e inferência na regressão linear se concentra em $\\beta$. Os elementos desse vetor de parâmetro são interpretados como derivadas parciais da variável dependente em relação às várias variáveis independentes.   \n",
    "    \n",
    "    * ${\\displaystyle {\\boldsymbol {\\varepsilon}}}$ é um vetor de valores ${\\displaystyle \\varepsilon _ {i}}$. Essa parte do modelo é chamada de termo de erro, termo de perturbação ou, às vezes, ruído (em contraste com o \"sinal\" fornecido pelo restante do modelo). Essa variável captura todos os outros fatores que influenciam a variável dependente y, exceto os regressores x. A relação entre o termo do erro e os regressores, por exemplo, sua correlação, é uma consideração crucial na formulação de um modelo de regressão linear, pois determinará o método de estimativa apropriado.    "
   ]
  },
  {
   "cell_type": "markdown",
   "metadata": {},
   "source": [
    "### Construindo um Scatter Plot\n",
    "\n",
    "Coeficientes"
   ]
  },
  {
   "cell_type": "code",
   "execution_count": 12,
   "metadata": {},
   "outputs": [
    {
     "name": "stdout",
     "output_type": "stream",
     "text": [
      "Coeficiente: \n",
      " [[1.20422117]]\n"
     ]
    }
   ],
   "source": [
    "print('Coeficiente: \\n', modelo.coef_)"
   ]
  },
  {
   "cell_type": "markdown",
   "metadata": {},
   "source": [
    "##### MSE (mean square error)"
   ]
  },
  {
   "cell_type": "code",
   "execution_count": 13,
   "metadata": {},
   "outputs": [
    {
     "name": "stdout",
     "output_type": "stream",
     "text": [
      "MSE: 2.74\n"
     ]
    }
   ],
   "source": [
    "print(\"MSE: %.2f\" % np.mean((modelo.predict(Diametros) - Precos) ** 2))"
   ]
  },
  {
   "cell_type": "markdown",
   "metadata": {},
   "source": [
    "##### Score de variação: 1 representa predição perfeita"
   ]
  },
  {
   "cell_type": "code",
   "execution_count": 14,
   "metadata": {},
   "outputs": [
    {
     "name": "stdout",
     "output_type": "stream",
     "text": [
      "Score de variação: 0.99\n"
     ]
    }
   ],
   "source": [
    "print('Score de variação: %.2f' % modelo.score(Diametros, Precos))"
   ]
  },
  {
   "cell_type": "markdown",
   "metadata": {},
   "source": [
    "### Scatter Plot representando a Regressão linear"
   ]
  },
  {
   "cell_type": "code",
   "execution_count": 15,
   "metadata": {},
   "outputs": [
    {
     "data": {
      "image/png": "[encoded data removed]",
      "text/plain": [
       "<Figure size 1512x432 with 1 Axes>"
      ]
     },
     "metadata": {
      "needs_background": "light"
     },
     "output_type": "display_data"
    }
   ],
   "source": [
    "plt.figure(figsize = (21,6))\n",
    "plt.scatter(Diametros, Precos,  color = 'black')\n",
    "plt.plot(Diametros, modelo.predict(Diametros), color = 'blue', linewidth = 1)\n",
    "plt.xlabel('Diametros')\n",
    "plt.ylabel('Precos')\n",
    "\n",
    "plt.show()"
   ]
  }
 ],
 "metadata": {
  "kernelspec": {
   "display_name": "Python 3",
   "language": "python",
   "name": "python3"
  },
  "language_info": {
   "codemirror_mode": {
    "name": "ipython",
    "version": 3
   },
   "file_extension": ".py",
   "mimetype": "text/x-python",
   "name": "python",
   "nbconvert_exporter": "python",
   "pygments_lexer": "ipython3",
   "version": "3.7.3"
  }
 },
 "nbformat": 4,
 "nbformat_minor": 4
}
