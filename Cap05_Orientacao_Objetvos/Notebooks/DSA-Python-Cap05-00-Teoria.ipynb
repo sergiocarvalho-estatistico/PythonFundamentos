{
 "cells": [
  {
   "cell_type": "markdown",
   "metadata": {},
   "source": [
    "# Fundamentos de POO\n",
    "\n",
    "* A linguagem Python foi construída sob o paradigma da Programação Orientada a Objetos (POO).\n",
    "* Tópicos\n",
    "\n",
    "    * Usando a palavra reservada class\n",
    "    * Criando atributos de classe\n",
    "    * Criando métodos em uma classe\n",
    "    * Herança\n",
    "    * Métodos especiais\n",
    "    \n",
    "\n",
    "\n",
    "* A orientação a objetos é um método de _análise_, _projeto_ e _programação_ de sistemas de _software_ baseado na composição e iteração entre diversas unidades de software chamadas de projetos. \n",
    "\n",
    "\n",
    "* A idéia fundamental da POO é tentar simular um mundo real dentro do computador."
   ]
  },
  {
   "cell_type": "markdown",
   "metadata": {},
   "source": [
    "* Em orientação a objetos é necessário definir quais objetos farão parte do sistema e como será a \n",
    "interação entre eles.  "
   ]
  },
  {
   "cell_type": "markdown",
   "metadata": {},
   "source": [
    "* Principais Conceitos da POO.\n",
    "\n",
    "    * Classe  \n",
    "        * As classes são abstrações computações que representam entidades do mundo real\n",
    "        * A classes nada mais é ue um template.\n",
    "        * Cada instância de uma classe é um objeto.\n",
    "    * Objeto\n",
    "        * O Objeto possui atributos.\n",
    "        * Atributos: São características ou propriedades do objeto.\n",
    "    * Atributos\n",
    "        * Atributos são características ou propriedade que ajudam a identificar os objetos.\n",
    "    * Métodos\n",
    "        * Os métodos são ações do objeto.\n",
    "        * São funções dentro de uma classe.\n",
    "    * Mensagem\n",
    "        * A mensagem é uma chamada ao objeto para invocar um de seus métodos.\n",
    "    * Herança\n",
    "        * Herança é o mecanismo pelo qual uma classe chamada sub-classe pode extender uma outra classe chamada de super-classe.\n",
    "        * A sub-classe herda métodos e atributos da super-classe.\n",
    "    * Polimorfismo\n",
    "        * Permite que as classes oriundas de uma mesma classe-base utilizem seus métodos de maneira diferente.\n",
    "    * Encapsulamento\n",
    "        * Permite que os detalhes internos do funcionamento do método de uma classe permneca oculto para os objetos"
   ]
  }
 ],
 "metadata": {
  "kernelspec": {
   "display_name": "Python 3",
   "language": "python",
   "name": "python3"
  },
  "language_info": {
   "codemirror_mode": {
    "name": "ipython",
    "version": 3
   },
   "file_extension": ".py",
   "mimetype": "text/x-python",
   "name": "python",
   "nbconvert_exporter": "python",
   "pygments_lexer": "ipython3",
   "version": "3.7.3"
  }
 },
 "nbformat": 4,
 "nbformat_minor": 4
}
