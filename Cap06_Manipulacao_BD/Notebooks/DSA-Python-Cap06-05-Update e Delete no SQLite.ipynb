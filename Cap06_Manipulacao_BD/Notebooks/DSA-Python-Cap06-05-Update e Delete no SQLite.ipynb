{
 "cells": [
  {
   "cell_type": "markdown",
   "metadata": {},
   "source": [
    "### Update e Delete"
   ]
  },
  {
   "cell_type": "code",
   "execution_count": 9,
   "metadata": {},
   "outputs": [],
   "source": [
    "import sqlite3\n",
    "import random\n",
    "import time\n",
    "import datetime\n",
    " \n",
    "# Criando uma conexão\n",
    "conn = sqlite3.connect('dsa.db')   \n",
    "\n",
    "# Criando um cursor\n",
    "c = conn.cursor()\n",
    " \n",
    "# Função para criar uma tabela\n",
    "def create_table():\n",
    "    c.execute('CREATE TABLE IF NOT EXISTS produtos(id INTEGER PRIMARY KEY AUTOINCREMENT NOT NULL, date TEXT, '\\\n",
    "              'prod_name TEXT, valor REAL)')\n",
    "      \n",
    "# Função para inserir uma linha\n",
    "def data_insert():\n",
    "    c.execute(\"INSERT INTO produtos VALUES(002, '02-05-2016', 'teclado', 130 )\")\n",
    "    conn.commit()\n",
    "    c.close()\n",
    "    conn.close()\n",
    "    \n",
    "# Usando variáveis para inserir dados    \n",
    "def data_insert_var():\n",
    "    new_date = datetime.datetime.now()\n",
    "    new_prod_name = 'monitor'\n",
    "    new_valor = random.randrange(50,100)\n",
    "    c.execute(\"INSERT INTO produtos (date, prod_name, valor) VALUES (?, ?, ?, ?)\", \n",
    "              (new_date, new_prod_name, new_valor))\n",
    "    conn.commit()\n",
    "    \n",
    "# Leitura de dados\n",
    "def leitura_todos_dados():\n",
    "    c.execute(\"SELECT * FROM PRODUTOS\")\n",
    "    for linha in c.fetchall():\n",
    "        print(linha)\n",
    "        \n",
    "# Leitura de registros específicos\n",
    "def leitura_registros():\n",
    "    c.execute(\"SELECT * FROM PRODUTOS WHERE valor > 70.0\")\n",
    "    for linha in c.fetchall():\n",
    "        print(linha)      \n",
    "        \n",
    "# Leitura de colunas específicos\n",
    "def leitura_colunas():\n",
    "    c.execute(\"SELECT * FROM PRODUTOS\")\n",
    "    for linha in c.fetchall():\n",
    "        print(linha[3])  \n",
    "        \n",
    "# Update\n",
    "def atualiza_dados():\n",
    "    c.execute(\"UPDATE produtos SET valor = 70.00 WHERE valor = 80.0\")\n",
    "    conn.commit()\n",
    "    \n",
    "# Delete\n",
    "def remove_dados():\n",
    "    c.execute(\"DELETE FROM produtos WHERE valor = 60.0\")\n",
    "    conn.commit()"
   ]
  },
  {
   "cell_type": "code",
   "execution_count": 10,
   "metadata": {},
   "outputs": [],
   "source": [
    "atualiza_dados()"
   ]
  },
  {
   "cell_type": "code",
   "execution_count": 12,
   "metadata": {},
   "outputs": [
    {
     "name": "stdout",
     "output_type": "stream",
     "text": [
      "(10, '2018-05-02 14:32:11', 'Teclado', 90.0)\n",
      "(11, '2019-09-04 15:51:48.424872', 'Monitor', 55.0)\n",
      "(12, '2019-09-04 15:51:49.561592', 'Monitor', 60.0)\n",
      "(13, '2019-09-04 15:51:50.666083', 'Monitor', 82.0)\n",
      "(14, '2019-09-04 15:51:51.775456', 'Monitor', 92.0)\n",
      "(15, '2019-09-04 15:51:52.882876', 'Monitor', 91.0)\n",
      "(16, '2019-09-04 15:51:53.997618', 'Monitor', 86.0)\n",
      "(17, '2019-09-04 15:51:55.120176', 'Monitor', 55.0)\n",
      "(18, '2019-09-04 15:51:56.230526', 'Monitor', 92.0)\n",
      "(19, '2019-09-04 15:51:57.318418', 'Monitor', 79.0)\n",
      "(21, '2019-09-04 15:52:15.678742', 'Monitor', 68.0)\n",
      "(22, '2019-09-04 15:52:16.796419', 'Monitor', 90.0)\n",
      "(23, '2019-09-04 15:52:17.932648', 'Monitor', 99.0)\n",
      "(24, '2019-09-04 15:52:19.042509', 'Monitor', 86.0)\n",
      "(25, '2019-09-04 15:52:20.137723', 'Monitor', 81.0)\n",
      "(26, '2019-09-04 15:52:21.228054', 'Monitor', 60.0)\n",
      "(27, '2019-09-04 15:52:22.329614', 'Monitor', 54.0)\n",
      "(28, '2019-09-04 15:52:23.438014', 'Monitor', 60.0)\n",
      "(29, '2019-09-04 15:52:24.531271', 'Monitor', 72.0)\n",
      "(30, '2019-09-04 15:52:25.640644', 'Monitor', 86.0)\n",
      "(31, '2019-09-04 15:56:53.846337', 'Monitor', 60.0)\n",
      "(32, '2019-09-04 15:56:55.050435', 'Monitor', 95.0)\n",
      "(33, '2019-09-04 15:56:56.159810', 'Monitor', 56.0)\n",
      "(34, '2019-09-04 15:56:57.270648', 'Monitor', 67.0)\n",
      "(35, '2019-09-04 15:56:58.398575', 'Monitor', 70.0)\n",
      "(36, '2019-09-04 15:56:59.502578', 'Monitor', 59.0)\n",
      "(37, '2019-09-04 15:57:00.602183', 'Monitor', 70.0)\n",
      "(38, '2019-09-04 15:57:01.705696', 'Monitor', 82.0)\n",
      "(39, '2019-09-04 15:57:02.790167', 'Monitor', 63.0)\n",
      "(40, '2019-09-04 15:57:03.887337', 'Monitor', 60.0)\n"
     ]
    }
   ],
   "source": [
    "leitura_todos_dados()"
   ]
  },
  {
   "cell_type": "code",
   "execution_count": 13,
   "metadata": {},
   "outputs": [],
   "source": [
    "remove_dados()"
   ]
  },
  {
   "cell_type": "code",
   "execution_count": 14,
   "metadata": {},
   "outputs": [
    {
     "name": "stdout",
     "output_type": "stream",
     "text": [
      "(10, '2018-05-02 14:32:11', 'Teclado', 90.0)\n",
      "(11, '2019-09-04 15:51:48.424872', 'Monitor', 55.0)\n",
      "(13, '2019-09-04 15:51:50.666083', 'Monitor', 82.0)\n",
      "(14, '2019-09-04 15:51:51.775456', 'Monitor', 92.0)\n",
      "(15, '2019-09-04 15:51:52.882876', 'Monitor', 91.0)\n",
      "(16, '2019-09-04 15:51:53.997618', 'Monitor', 86.0)\n",
      "(17, '2019-09-04 15:51:55.120176', 'Monitor', 55.0)\n",
      "(18, '2019-09-04 15:51:56.230526', 'Monitor', 92.0)\n",
      "(19, '2019-09-04 15:51:57.318418', 'Monitor', 79.0)\n",
      "(21, '2019-09-04 15:52:15.678742', 'Monitor', 68.0)\n",
      "(22, '2019-09-04 15:52:16.796419', 'Monitor', 90.0)\n",
      "(23, '2019-09-04 15:52:17.932648', 'Monitor', 99.0)\n",
      "(24, '2019-09-04 15:52:19.042509', 'Monitor', 86.0)\n",
      "(25, '2019-09-04 15:52:20.137723', 'Monitor', 81.0)\n",
      "(27, '2019-09-04 15:52:22.329614', 'Monitor', 54.0)\n",
      "(29, '2019-09-04 15:52:24.531271', 'Monitor', 72.0)\n",
      "(30, '2019-09-04 15:52:25.640644', 'Monitor', 86.0)\n",
      "(32, '2019-09-04 15:56:55.050435', 'Monitor', 95.0)\n",
      "(33, '2019-09-04 15:56:56.159810', 'Monitor', 56.0)\n",
      "(34, '2019-09-04 15:56:57.270648', 'Monitor', 67.0)\n",
      "(35, '2019-09-04 15:56:58.398575', 'Monitor', 70.0)\n",
      "(36, '2019-09-04 15:56:59.502578', 'Monitor', 59.0)\n",
      "(37, '2019-09-04 15:57:00.602183', 'Monitor', 70.0)\n",
      "(38, '2019-09-04 15:57:01.705696', 'Monitor', 82.0)\n",
      "(39, '2019-09-04 15:57:02.790167', 'Monitor', 63.0)\n"
     ]
    }
   ],
   "source": [
    "leitura_todos_dados()"
   ]
  },
  {
   "cell_type": "code",
   "execution_count": null,
   "metadata": {},
   "outputs": [],
   "source": []
  }
 ],
 "metadata": {
  "kernelspec": {
   "display_name": "Python 3",
   "language": "python",
   "name": "python3"
  },
  "language_info": {
   "codemirror_mode": {
    "name": "ipython",
    "version": 3
   },
   "file_extension": ".py",
   "mimetype": "text/x-python",
   "name": "python",
   "nbconvert_exporter": "python",
   "pygments_lexer": "ipython3",
   "version": "3.7.3"
  }
 },
 "nbformat": 4,
 "nbformat_minor": 4
}
